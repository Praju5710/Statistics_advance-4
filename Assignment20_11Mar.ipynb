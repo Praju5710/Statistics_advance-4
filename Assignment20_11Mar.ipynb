{
 "cells": [
  {
   "cell_type": "markdown",
   "id": "37c903c7-4ba9-4f26-b441-c66195657b7b",
   "metadata": {},
   "source": [
    "Q1: What is the difference between a t-test and a z-test? Provide an example scenario where you would\n",
    "use each type of test."
   ]
  },
  {
   "cell_type": "markdown",
   "id": "77aad6dc-76d0-4aaa-8f92-6c491c76765b",
   "metadata": {},
   "source": [
    "#### Difference : \n",
    "#### 1) Population Standard Deviation:\n",
    "#### Z-Test: Assumes that the population standard deviation (σ) is known.\n",
    "#### T-Test: Used when the population standard deviation (σ) is unknown, and the sample standard deviation (s) is used as an estimate.\n",
    "#### 2) Sample Size:\n",
    "#### Z-Test: Typically used for larger sample sizes (usually n≥30).\n",
    "#### T-Test: Appropriate for smaller sample sizes, especially when the population standard deviation is unknown.\n",
    "#### 3) Distribution:\n",
    "#### Z-Test: Assumes a normal distribution of the population or a sufficiently large sample size due to the Central Limit Theorem.\n",
    "#### T-Test: More robust in cases of smaller sample sizes and does not strictly rely on normality assumptions.\n",
    "#### Example for a Z-Test:\n",
    "#### Imagine you are analyzing the scores of a standardized test that claims to have a known population standard deviation of 10 points. You want to test whether the average score of a sample of 100 students is significantly different from the claimed population mean of 500 points. In this case, you could use a z-test because the population standard deviation is known."
   ]
  },
  {
   "cell_type": "code",
   "execution_count": 1,
   "id": "b7326658-e20f-491f-ba96-c8c2037862f9",
   "metadata": {},
   "outputs": [
    {
     "name": "stdout",
     "output_type": "stream",
     "text": [
      "Reject the null hypothesis. There is evidence of a significant difference.\n"
     ]
    }
   ],
   "source": [
    "# Example in Python using z-test\n",
    "import scipy.stats as stats\n",
    "\n",
    "sample_mean = 505  # sample mean score\n",
    "population_mean = 500  # hypothesized population mean\n",
    "population_std_dev = 10  # known population standard deviation\n",
    "sample_size = 100\n",
    "\n",
    "# Calculate the z-statistic\n",
    "z_statistic = (sample_mean - population_mean) / (population_std_dev / (sample_size ** 0.5))\n",
    "\n",
    "# Perform the hypothesis test\n",
    "p_value = 2 * (1 - stats.norm.cdf(abs(z_statistic)))  # two-tailed test\n",
    "\n",
    "if p_value < 0.05:\n",
    "    print(\"Reject the null hypothesis. There is evidence of a significant difference.\")\n",
    "else:\n",
    "    print(\"Fail to reject the null hypothesis. There is not enough evidence of a significant difference.\")\n"
   ]
  },
  {
   "cell_type": "markdown",
   "id": "924d04b1-c088-451d-82e0-e6e3d4494f38",
   "metadata": {},
   "source": [
    "#### Example Scenario for a T-Test:\n",
    "#### Now, let's consider a scenario where you are studying the average height of a sample of 20 individuals, and you don't know the population standard deviation. In this case, you would use a t-test."
   ]
  },
  {
   "cell_type": "code",
   "execution_count": 2,
   "id": "903276ca-2a32-475c-9b09-a75d11e84c6e",
   "metadata": {},
   "outputs": [
    {
     "name": "stdout",
     "output_type": "stream",
     "text": [
      "Reject the null hypothesis. There is evidence that the average height is less than 175 cm.\n"
     ]
    }
   ],
   "source": [
    "# Example in Python using t-test\n",
    "import scipy.stats as stats\n",
    "\n",
    "sample_mean_height = 170  # sample mean height in centimeters\n",
    "hypothesized_population_mean = 175  # hypothesized population mean height\n",
    "sample_std_dev_height = 8  # sample standard deviation of height\n",
    "sample_size_height = 20\n",
    "\n",
    "# Calculate the t-statistic\n",
    "t_statistic_height = (sample_mean_height - hypothesized_population_mean) / (sample_std_dev_height / (sample_size_height ** 0.5))\n",
    "\n",
    "# Degrees of freedom for a one-sample t-test\n",
    "degrees_of_freedom_height = sample_size_height - 1\n",
    "\n",
    "# Significance level\n",
    "alpha_height = 0.05\n",
    "\n",
    "# Calculate the critical value (one-tailed test)\n",
    "critical_value_height = stats.t.ppf(1 - alpha_height, degrees_of_freedom_height)\n",
    "\n",
    "# Perform the hypothesis test\n",
    "if t_statistic_height < critical_value_height:\n",
    "    print(\"Reject the null hypothesis. There is evidence that the average height is less than 175 cm.\")\n",
    "else:\n",
    "    print(\"Fail to reject the null hypothesis. There is not enough evidence that the average height is less than 175 cm.\")\n"
   ]
  },
  {
   "cell_type": "markdown",
   "id": "29274b2d-7fce-4481-9739-12eb73f3f6ea",
   "metadata": {},
   "source": [
    "Q2: Differentiate between one-tailed and two-tailed tests."
   ]
  },
  {
   "cell_type": "markdown",
   "id": "43d0fd19-f338-45aa-979a-a48fb3d7c24d",
   "metadata": {},
   "source": [
    "### One-Tailed Test: \n",
    "#### 1) Also known as a \"directional\" or \"one-sided\" test. Focuses on testing whether a parameter is greater than or less than a certain value. The null hypothesis (H0) specifies a particular direction, and the alternative hypothesis (H1) focuses on that direction.\n",
    "#### 2) The critical region is on one side of the distribution (either the right or left side).\n",
    "#### 3) Used when you are specifically interested in determining if the parameter is greater than or less than a certain value, not both.\n",
    "#### Example:\n",
    "#### H0:μ=10 (population mean is equal to 10)\n",
    "#### H1:μ>10 (population mean is greater than 10)\n",
    "### Two-Tailed Test:\n",
    "#### 1) Also known as a \"non-directional\" or \"two-sided\" test. Examines whether a parameter is significantly different from a certain value, regardless of the direction. The null hypothesis (H0) usually states that there is no difference, and the alternative hypothesis (H1) states that there is a significant difference.\n",
    "#### 2) The critical region is split between both sides of the distribution (both the right and left sides).\n",
    "#### 3) Used when you are interested in determining if the parameter is different (greater or less) from a certain value.\n",
    "#### Example:\n",
    "#### H0:μ=10 (population mean is equal to 10)\n",
    "#### H1:μ!=10 (population mean is not equal to 10)"
   ]
  },
  {
   "cell_type": "markdown",
   "id": "b22f20b0-818c-4a8f-b4c3-0cb5c1ca9a11",
   "metadata": {},
   "source": [
    "Q3: Explain the concept of Type 1 and Type 2 errors in hypothesis testing. Provide an example scenario for\n",
    "each type of error."
   ]
  },
  {
   "cell_type": "markdown",
   "id": "8e8b8093-f76b-40e5-90f6-e068b44b6b84",
   "metadata": {},
   "source": [
    "### Type I Error (False Positive): \n",
    "#### Occurs when the null hypothesis (H0) is incorrectly rejected when it is actually true. The probability of committing a Type I error is denoted by the significance level (α). The significance level is the probability of rejecting the null hypothesis when it is true, leading to an incorrect conclusion that there is a significant effect or difference.\n",
    "#### Example Scenario:\n",
    "#### Suppose a medical researcher is testing a new drug's effectiveness on a certain condition, and the null hypothesis is that the drug has no effect. A Type I error occurs if the researcher incorrectly concludes that the drug is effective (rejects the null hypothesis) when, in reality, it has no effect.\n",
    "### Type II Error (False Negative):\n",
    "#### Occurs when the null hypothesis (H0) is not rejected when it is actually false. The probability of committing a Type II error is denoted by β. It is related to the power of a statistical test, where power is the probability of correctly rejecting a false null hypothesis.\n",
    "#### Example Scenario:\n",
    "#### Continuing with the drug example, a Type II error occurs if the researcher fails to reject the null hypothesis (concludes the drug has no effect) when, in reality, the drug does have a positive effect."
   ]
  },
  {
   "cell_type": "markdown",
   "id": "3cfa6745-962a-4ba8-b8ea-fbd8a84316fc",
   "metadata": {},
   "source": [
    "Q4: Explain Bayes's theorem with an example."
   ]
  },
  {
   "cell_type": "markdown",
   "id": "c20d8a17-4df5-4db9-bef4-fc402aa3452c",
   "metadata": {},
   "source": [
    "#### Bayes's Theorem is a mathematical formula that describes the probability of an event based on prior knowledge of conditions related to the event. It is named after the Reverend Thomas Bayes, who first formulated the theorem. Bayes's Theorem is widely used in statistics and probability theory and is particularly useful for updating probabilities based on new evidence.\n",
    "#### The formula for Bayes's Theorem is given by: P(A|B)=(P(B|A)*P(A))/P(B)\n",
    "#### where : \n",
    "##### P(A|B) is the probability of event A occurring given that B has occurred (the posterior probability).\n",
    "##### P(B|A) is the probability of event B occurring given that A has occurred (the likelihood).\n",
    "##### P(A) is the prior probability of event A.\n",
    "##### P(B) is the prior probability of event B.\n",
    "#### Example :\n",
    "#### Suppose there is a rare disease (event A) that affects 1 in 1,000 people in a population. A medical test (event B) is available to detect the disease, and the test is 99% accurate for both people with and without the disease. Let's use Bayes's Theorem to calculate the probability of having the disease given a positive test result.\n",
    "#### P(A) : Prior probability of having the disease = 0.001 (1 in 1,000).\n",
    "#### P(B|A) : Probability of testing positive given that the person has the disease = 0.99 (99% accuracy).\n",
    "#### P(B|-A) : Probability of testing positive given that the person does not have the disease = 0.01 (1% false positive rate).\n",
    "#### Now, we can use Bayes's Theorem to calculate the posterior probability :\n",
    "#### P(A|B)=(P(B|A) * P(A))/P(B) = (0.99 * 0.001)/P(B) \n",
    "#### To find P(B), we can use the Law of Total Probability:\n",
    "#### P(B)=P(B|A) * P(A)+P(B|-A) * P(-A) = (0.99 * 0.001)+(0.01 * 0.999) \n",
    "#### Now, we can substitute this value back into Bayes's Theorem: \n",
    "#### P(A|B)=(0.99 * 0.001)/((0.99 * 0.001)+(0.01 * 0.999))\n",
    "#### After calculating this expression, we find the updated probability of having the disease given a positive test result."
   ]
  },
  {
   "cell_type": "markdown",
   "id": "b14669a2-9bbc-4bf9-8c73-91c4ac960267",
   "metadata": {},
   "source": [
    "Q5: What is a confidence interval? How to calculate the confidence interval, explain with an example."
   ]
  },
  {
   "cell_type": "markdown",
   "id": "c473fbff-4727-474a-9226-891c50bd9c32",
   "metadata": {},
   "source": [
    "#### A confidence interval is a range of values that is likely to contain the true parameter of interest with a certain level of confidence. In statistics, it provides a way to express the uncertainty associated with estimating a population parameter from a sample.\n",
    "#### The general form of a confidence interval is:\n",
    "#### Confidence Interval = Point Estimate +- Margin of error \n",
    "#### where:\n",
    "##### Point Estimate: The sample statistic (e.g. the sample mean or proportion) used to estimate the population parameter.\n",
    "##### Margin of Error: A measure of the uncertainty or variability in the estimate.\n",
    "#### The formula for a confidence interval for the population mean (μ) is given by:\n",
    "#### Confidence interval = x_bar +- Z * (sigma/sqrt(n))\n",
    "#### where : \n",
    "##### x_bar is the sample mean.\n",
    "##### Z is the critical value from the standard normal distribution corresponding to the desired confidence level.\n",
    "##### sigma is the population standard deviation.\n",
    "##### n is the sample size.\n",
    "#### Example: Calculating a 95% Confidence Interval for the Mean:\n",
    "#### Suppose you want to estimate the average height of a population. You take a random sample of 40 individuals and find that the sample mean height (x_bar) is 175 cm, and the sample standard deviation (sigma) is 8 cm.\n",
    "#### 1) Determine the Critical Value (Z):\n",
    "#### For a 95% confidence interval, the critical value is approximately 1.96 (obtained from a standard normal distribution table).\n",
    "#### 2) Calculate the Margin of Error:\n",
    "#### Margin of Error = 1.96 * (8/sqrt(40))\n",
    "#### 3) Calculate the Confidence Interval:\n",
    "#### Confidence interval = 175 +- (1.96 * (8/sqrt(40)))\n",
    "#### The resulting interval, in this case, would be the range of heights within which we are 95% confident the true average height of the population lies."
   ]
  },
  {
   "cell_type": "markdown",
   "id": "d9669486-a4fc-4d77-8af6-c96e728b6857",
   "metadata": {},
   "source": [
    "Q6. Use Bayes' Theorem to calculate the probability of an event occurring given prior knowledge of the\n",
    "event's probability and new evidence. Provide a sample problem and solution."
   ]
  },
  {
   "cell_type": "markdown",
   "id": "ba752036-0fc7-4324-97ab-7e46a82adcb4",
   "metadata": {},
   "source": [
    "### Example Scenario: Medical Test for a Rare Disease\n",
    "#### Suppose there is a rare disease, and a diagnostic test has been developed to detect it. Let's denote the following:\n",
    "#### A: The event of having the disease.\n",
    "#### B: The event of testing positive for the disease.\n",
    "#### The goal is to calculate P(A∣B), the probability of actually having the disease given a positive test result.\n",
    "#### Given probabilities:\n",
    "#### P(A) : Prior probability of having the disease = 0.001 (1 in 1,000).\n",
    "#### P(B|A) : Probability of testing positive given that the person has the disease = 0.99 (99% accuracy).\n",
    "#### P(B|-A) : Probability of testing positive given that the person does not have the disease = 0.01 (1% false positive rate).\n",
    "#### Now, we can use Bayes's Theorem to calculate the posterior probability :\n",
    "#### P(A|B)=(P(B|A) * P(A))/P(B) = (0.99 * 0.001)/P(B) \n",
    "#### To find P(B), we can use the Law of Total Probability:\n",
    "#### P(B)=P(B|A) * P(A)+P(B|-A) * P(-A) = (0.99 * 0.001)+(0.01 * 0.999)  where P(-A) is the complement of P(A) . \n",
    "#### Now, we can substitute this value back into Bayes's Theorem: \n",
    "#### P(A|B)=(0.99 * 0.001)/((0.99 * 0.001)+(0.01 * 0.999)) = 0.0902 \n",
    "#### So, given a positive test result, the probability of actually having the disease is approximately 0.0902 or 9.02%. "
   ]
  },
  {
   "cell_type": "markdown",
   "id": "fac1dc38-c9a8-4207-bcdb-b3cebca9bb25",
   "metadata": {},
   "source": [
    "Q7. Calculate the 95% confidence interval for a sample of data with a mean of 50 and a standard deviation\n",
    "of 5. Interpret the results."
   ]
  },
  {
   "cell_type": "markdown",
   "id": "1ea18fd8-c01e-4c4f-bd46-d7a7cdf0e00e",
   "metadata": {},
   "source": [
    "#### The formula for a confidence interval for the population mean (μ) is given by:\n",
    "#### Confidence interval = x_bar +- Z * (sigma/sqrt(n))\n",
    "#### where : \n",
    "##### x_bar is the sample mean.\n",
    "##### Z is the critical value from the standard normal distribution corresponding to the desired confidence level.\n",
    "##### sigma is the population standard deviation.\n",
    "##### n is the sample size\n",
    "#### Given :\n",
    "##### For a 95% confidence interval, the critical value is approximately 1.96 (obtained from a standard normal distribution table).\n",
    "##### x_bar = 50\n",
    "##### sigma = 5\n",
    "##### We'll use a common convention of a sufficiently large sample size, such as n=30.\n",
    "#### Margin of Error = Z * (sigma/sqrt(n)) = 1.96 * (5/sqrt(30))\n",
    "#### Confidence interval = 50 +- (1.96 * (5/sqrt(30))) = (48.21 , 51.79)\n",
    "#### Interpretation : \"We are 95% confident that the true population mean lies between the lower bound and the upper bound of the interval. In this case, the confidence interval is centered around the sample mean of 50, and it is adjusted by the margin of error calculated based on the standard deviation and sample size.\""
   ]
  },
  {
   "cell_type": "markdown",
   "id": "67026979-0d94-4e2d-b88b-1e4a82e6dc44",
   "metadata": {},
   "source": [
    "Q8. What is the margin of error in a confidence interval? How does sample size affect the margin of error?\n",
    "Provide an example of a scenario where a larger sample size would result in a smaller margin of error."
   ]
  },
  {
   "cell_type": "markdown",
   "id": "093b6e26-fae3-4043-9baa-9ce348a0f3e3",
   "metadata": {},
   "source": [
    "#### The margin of error (ME) in a confidence interval is a measure of the precision or uncertainty associated with estimating a population parameter from a sample. It represents the range within which we are reasonably confident that the true parameter lies. The formula for the margin of error in a confidence interval for the population mean (μ) with a known standard deviation (σ) is given by:\n",
    "#### Margin of error = Z * (σ/sqrt(n)\n",
    "#### where:\n",
    "##### Z is the critical value from the standard normal distribution corresponding to the desired confidence level.\n",
    "##### σ is the population standard deviation.\n",
    "##### n is the sample size.\n",
    "#### How Sample Size Affects the Margin of Error:\n",
    "#### 1) Inverse Relationship: The margin of error is inversely proportional to the square root of the sample size. As the sample size increases, the margin of error decreases, leading to a more precise estimate.\n",
    "#### 2) Larger Sample Size, Smaller Margin of Error: Increasing the sample size results in a smaller margin of error because the standard error (σ/sqrt(n)) becomes smaller. A larger sample provides more information about the population, reducing the uncertainty associated with the estimate.\n",
    "#### Example Scenario : Let's consider a scenario where we want to estimate the average height of a certain population. We conduct two separate studies, one with a sample size of 50 (n1=50) and another with a sample size of 200 (n2=200). For both studies, we use a 95% confidence level.\n",
    "#### Assuming the population standard deviation (σ) is known to be 5 cm, we can calculate the margin of error for each study:\n",
    "#### ME1 = 1.96 * 5/sqrt(50) \n",
    "#### ME2 = 1.96 * 5/sqrt(200)\n",
    "#### We will observe that the margin of error for Study 2 (ME2) is smaller than the margin of error for Study 1 (ME1), demonstrating the inverse relationship between sample size and margin of error. The larger sample size in Study 2 leads to a more precise estimate of the population mean."
   ]
  },
  {
   "cell_type": "markdown",
   "id": "c14a2eb0-3b5f-4317-ba30-b296d7b53c26",
   "metadata": {},
   "source": [
    "Q9. Calculate the z-score for a data point with a value of 75, a population mean of 70, and a population\n",
    "standard deviation of 5. Interpret the results."
   ]
  },
  {
   "cell_type": "markdown",
   "id": "2bf0dbae-e544-4518-9d3c-db9547e5b122",
   "metadata": {},
   "source": [
    "#### The z-score is a measure that describes how many standard deviations a particular data point is from the mean of a population. The formula for calculating the z-score is:\n",
    "#### Z= (X−μ)/σ\n",
    "#### Given :\n",
    "#### X=75\n",
    "#### μ=70\n",
    "#### σ=5 \n",
    "#### z-score = Z = (75-70)/5 = 1\n",
    "#### Interpretation:\n",
    "#### The calculated z-score of 1 indicates that the data point with a value of 75 is 1 standard deviation above the population mean. In a standard normal distribution, a z-score of 1 corresponds to the data point being at the 84th percentile, meaning it is higher than approximately 84% of the data points in the distribution."
   ]
  },
  {
   "cell_type": "markdown",
   "id": "978c1529-b5dc-4f00-a55a-7308e4cb4669",
   "metadata": {},
   "source": [
    "Q10. In a study of the effectiveness of a new weight loss drug, a sample of 50 participants lost an average\n",
    "of 6 pounds with a standard deviation of 2.5 pounds. Conduct a hypothesis test to determine if the drug is\n",
    "significantly effective at a 95% confidence level using a t-test."
   ]
  },
  {
   "cell_type": "markdown",
   "id": "0ef3ff97-56a0-4f8e-9979-272e3165a206",
   "metadata": {},
   "source": [
    "#### H0: The mean weight loss with the drug is not significant (μ=0).\n",
    "#### H1: The mean weight loss with the drug is significant (μ!=0).\n",
    "#### Given information:\n",
    "#### Sample mean (x_bar): 6 pounds\n",
    "####  standard deviation (s): 2.5 pounds\n",
    "#### Sample size (n): 50\n",
    "#### Significance level (α): 0.05 (for a 95% confidence level)\n",
    "#### The formula for the t-statistic is: \n",
    "#### t = x_bar/(s/sqrt(n)) = 6/(2.5/sqrt(50)) = 16.97 \n",
    "#### Now, we need to compare the calculated t-statistic with the critical t-value for a two-tailed test at a 95% confidence level with n−1 degrees of freedom. In this case, degrees of freedom is 49.\n",
    "#### We can use a t-distribution table or statistical software to find the critical t-value. For a two-tailed test with α=0.05 and 49 degrees of freedom, the critical t-value is approximately ±2.0096.\n",
    "#### Since 16.97 is greater than 2.0096, we reject the null hypothesis.\n",
    "#### Interpretation:\n",
    "#### At a 95% confidence level, we have enough evidence to conclude that the weight loss drug is significantly effective, as the mean weight loss is different from zero."
   ]
  },
  {
   "cell_type": "markdown",
   "id": "419c7ace-df3c-43c3-868b-493de769e484",
   "metadata": {},
   "source": [
    "Q11. In a survey of 500 people, 65% reported being satisfied with their current job. Calculate the 95%\n",
    "confidence interval for the true proportion of people who are satisfied with their job."
   ]
  },
  {
   "cell_type": "markdown",
   "id": "270d3e0d-9f2d-4c6b-ae6c-49b5d85bc479",
   "metadata": {},
   "source": [
    "#### Confidence interval = p_hat +- ( Z * sqrt((p_hat * (1-p_hat))/n )) \n",
    "#### where:\n",
    "##### p_hat is the sample proportion (percentage converted to a decimal),\n",
    "##### Z is the critical value from the standard normal distribution corresponding to the desired confidence level,\n",
    "##### n is the sample size.\n",
    "#### Given information:\n",
    "##### Sample proportion (p_hat): 65% or 0.65 (converted to a decimal)\n",
    "##### Sample size (n): 500\n",
    "##### Confidence level: 95%\n",
    "##### For a 95% confidence level, the critical value is approximately 1.96 i.e Z=1.96 \n",
    "####  Confidence interval = 0.65 +- ( 1.96 * sqrt((0.65 * (1-0.65))/500 ) ) = (0.608 , 0.692)\n",
    "#### Interpretation:\n",
    "#### \"We are 95% confident that the true proportion of people satisfied with their job is between the lower and upper bounds of the interval.\""
   ]
  },
  {
   "cell_type": "markdown",
   "id": "22c5bedd-fed3-4c59-97f7-b4b0f8eb7372",
   "metadata": {},
   "source": [
    "Q12. A researcher is testing the effectiveness of two different teaching methods on student performance.\n",
    "Sample A has a mean score of 85 with a standard deviation of 6, while sample B has a mean score of 82\n",
    "with a standard deviation of 5. Conduct a hypothesis test to determine if the two teaching methods have a\n",
    "significant difference in student performance using a t-test with a significance level of 0.01."
   ]
  },
  {
   "cell_type": "markdown",
   "id": "711db8fb-0358-4db8-abcf-3bfe0c9063a1",
   "metadata": {},
   "source": [
    "#### The null hypothesis (H0) and alternative hypothesis (H1) are defined as follows:\n",
    "#### H0:μ1−μ2=0\n",
    "#### H0:μ1−μ2!=0\n",
    "#### Sample A : x_bar1 = 85 , s1 = 6\n",
    "#### Sample B : x_bar2 = 82 , s2 = 5 \n",
    "#### Significance level (α): 0.01\n",
    "#### Assumptions : Assume the sample sizes are reasonably large (often considered n≥30). Assume equal variances (pooled standard deviation approach).\n",
    "#### Find the Critical Value : For a two-tailed test with α=0.01, the critical t-value is approximately ±2.626.\n",
    "#### Calculate the t-Statistic:\n",
    "#### t = (x_bar1-x_bar2)/sqrt((s1^2/n1)+(s2^2/n2)) = (85-82)/sqrt((36/n1)+(25/n2))\n",
    "#### Compare with the Critical Value : If ∣t∣ > critical value , then reject the null hypothesis.\n",
    "#### If the calculated t-statistic falls outside the critical range, you would reject the null hypothesis, suggesting a significant difference in student performance between the two teaching methods."
   ]
  },
  {
   "cell_type": "markdown",
   "id": "e7d4b55f-8adb-4019-a2ef-4bae588ee018",
   "metadata": {},
   "source": [
    "Q13. A population has a mean of 60 and a standard deviation of 8. A sample of 50 observations has a mean\n",
    "of 65. Calculate the 90% confidence interval for the true population mean."
   ]
  },
  {
   "cell_type": "markdown",
   "id": "50e53d47-13cc-4a3d-9802-36de47ebbe12",
   "metadata": {},
   "source": [
    "#### The formula for a confidence interval for the population mean (μ) is given by:\n",
    "#### Confidence interval = x_bar +- Z * (sigma/sqrt(n))\n",
    "#### where : \n",
    "##### x_bar is the sample mean.\n",
    "##### Z is the critical value from the standard normal distribution corresponding to the desired confidence level.\n",
    "##### sigma is the population standard deviation.\n",
    "##### n is the sample size\n",
    "#### Given :\n",
    "##### For a 90% confidence interval, the critical value is approximately 1.645 (obtained from a standard normal distribution table).\n",
    "##### x_bar = 65\n",
    "##### sigma = 8\n",
    "##### n=50.\n",
    "#### Margin of Error = Z * (sigma/sqrt(n)) = 1.645 * (8/sqrt(50))\n",
    "#### Confidence interval = 65 +- (1.645 * (8/sqrt(50))) \n",
    "#### Interpretation:\n",
    "#### \"We are 90% confident that the true population mean is between the lower and upper bounds of the interval.\""
   ]
  },
  {
   "cell_type": "markdown",
   "id": "f1634055-6d23-4216-93d1-cbd82703a860",
   "metadata": {},
   "source": [
    "Q14. In a study of the effects of caffeine on reaction time, a sample of 30 participants had an average\n",
    "reaction time of 0.25 seconds with a standard deviation of 0.05 seconds. Conduct a hypothesis test to\n",
    "determine if the caffeine has a significant effect on reaction time at a 90% confidence level using a t-test."
   ]
  },
  {
   "cell_type": "markdown",
   "id": "90325ad0-5e3c-49ec-960c-b5e6291958c7",
   "metadata": {},
   "source": [
    "#### H0: Caffeine has no significant effect on reaction time (μ=0).\n",
    "#### H1: Caffeine has significant effect on reaction time (μ!=0).\n",
    "#### Given information:\n",
    "#### Sample mean (x_bar): 0.25 pounds\n",
    "####  standard deviation (s): 0.05 pounds\n",
    "#### Sample size (n): 30\n",
    "#### Significance level (α): 0.10 (for a 90% confidence level)\n",
    "#### The formula for the t-statistic is: \n",
    "#### t = x_bar/(s/sqrt(n)) = 0.25/(0.05/sqrt(30)) = 27.38 \n",
    "#### Now, we need to compare the calculated t-statistic with the critical t-value for a two-tailed test at a 90% confidence level with n−1 degrees of freedom. In this case, degrees of freedom is 29.\n",
    "#### We can use a t-distribution table or statistical software to find the critical t-value. For a two-tailed test with α=0.10 and 29 degrees of freedom, the critical t-value is approximately ±1.699.\n",
    "#### Since 27.38 is greater than 1.699, we reject the null hypothesis.\n",
    "#### Interpretation:\n",
    "#### At a 90% confidence level, we have enough evidence to conclude that caffeine has a significant effect on reaction time, as the mean reaction time is different from zero."
   ]
  }
 ],
 "metadata": {
  "kernelspec": {
   "display_name": "Python 3 (ipykernel)",
   "language": "python",
   "name": "python3"
  },
  "language_info": {
   "codemirror_mode": {
    "name": "ipython",
    "version": 3
   },
   "file_extension": ".py",
   "mimetype": "text/x-python",
   "name": "python",
   "nbconvert_exporter": "python",
   "pygments_lexer": "ipython3",
   "version": "3.10.8"
  }
 },
 "nbformat": 4,
 "nbformat_minor": 5
}
